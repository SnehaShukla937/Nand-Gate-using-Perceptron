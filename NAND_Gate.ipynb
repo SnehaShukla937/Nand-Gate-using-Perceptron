{
  "nbformat": 4,
  "nbformat_minor": 0,
  "metadata": {
    "colab": {
      "provenance": [],
      "collapsed_sections": []
    },
    "kernelspec": {
      "name": "python3",
      "display_name": "Python 3"
    },
    "language_info": {
      "name": "python"
    }
  },
  "cells": [
    {
      "cell_type": "markdown",
      "metadata": {
        "id": "WcBSGdfrdfuP"
      },
      "source": [
        "# **NAND Gate build by Perceptron:**\n",
        "\n"
      ]
    },
    {
      "cell_type": "code",
      "metadata": {
        "colab": {
          "base_uri": "https://localhost:8080/"
        },
        "id": "mqXdhifOZDV9",
        "outputId": "77ef391d-f6c4-4f98-fa63-d0dfe7d33288"
      },
      "source": [
        "# FUNCTION TO CALCULATE OUTPUT BEFORE APPLYING ACTIVATION FUNCTION \n",
        "def calculate_yin(w1,x1,w2,x2):\n",
        "  yin = w1 * x1 + w2 * x2  # sum of weighted multiplication of inputs and weights\n",
        "  return yin\n",
        "\n",
        "# FUNCTION TO UPDATE WEIGHTS\n",
        "def update_weights(w1,w2,x1,x2,lr,z):\n",
        "  w1_new = w1 + lr * z * x1   # updating weight1\n",
        "  w2_new = w2 + lr * z * x2   # updating weight2\n",
        "  return w1_new,w2_new\n",
        "\n",
        "# SET ALL PARAMETERS AND VARIABLES\n",
        "x = [[0,0],[0,1],[1,0],[1,1]] # input for NAND gate\n",
        "target = [1,1,1,0] # output for NAND gate\n",
        "w1 = 0  # initial weight\n",
        "w2 = 0  # initial weight\n",
        "threshold = -1 # threshold\n",
        "epoch = 4 # epoch\n",
        "lr = 0.5 # learning rate\n",
        "\n",
        "# BASIC PERCEPTRON LEARNING PROCESS TO GET 'NAND GATE'\n",
        "for e in range(epoch): # loop for each epoch\n",
        "  out = []\n",
        "  print(\"\\nEpoch:{0}\".format(e+1))\n",
        "  for i in range(4): # loop for each input in x\n",
        "    yin = calculate_yin(w1, x[i][0], w2, x[i][1]) # calculate yin\n",
        "    # 'STEP' activation function \n",
        "    if yin >= threshold:\n",
        "      y = 1\n",
        "    else: y = 0\n",
        "    # check if output and target is different then update weight\n",
        "    if y != target[i]: \n",
        "      w1,w2 = update_weights(w1, w2, x[i][0], x[i][1], lr, target[i]-y)\n",
        "    out.append(y) # append all prediction in 'out' \n",
        "  \n",
        "  print(\"learned parameters: w1 = {0}, w2 = {1} and threshold = {2}\".format(w1,w2,threshold))\n",
        "  print(\"predicted output:{0}\".format(out))\n",
        "\n",
        "print(\"\\n**************************************\")\n",
        "print(\"Final predicted NAND gate output:\",out)\n",
        "print(\"****************************************\")"
      ],
      "execution_count": null,
      "outputs": [
        {
          "output_type": "stream",
          "text": [
            "\n",
            "Epoch:1\n",
            "learned parameters: w1 = -0.5, w2 = -0.5 and threshold = -1\n",
            "predicted output:[1, 1, 1, 1]\n",
            "\n",
            "Epoch:2\n",
            "learned parameters: w1 = -1.0, w2 = -1.0 and threshold = -1\n",
            "predicted output:[1, 1, 1, 1]\n",
            "\n",
            "Epoch:3\n",
            "learned parameters: w1 = -1.0, w2 = -1.0 and threshold = -1\n",
            "predicted output:[1, 1, 1, 0]\n",
            "\n",
            "Epoch:4\n",
            "learned parameters: w1 = -1.0, w2 = -1.0 and threshold = -1\n",
            "predicted output:[1, 1, 1, 0]\n",
            "\n",
            "**************************************\n",
            "Final predicted NAND gate output: [1, 1, 1, 0]\n",
            "****************************************\n"
          ],
          "name": "stdout"
        }
      ]
    },
    {
      "cell_type": "code",
      "metadata": {
        "id": "H5Hu6HTup55O"
      },
      "source": [],
      "execution_count": null,
      "outputs": []
    }
  ]
}